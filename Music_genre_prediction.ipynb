{
  "nbformat": 4,
  "nbformat_minor": 0,
  "metadata": {
    "colab": {
      "provenance": []
    },
    "kernelspec": {
      "name": "python3",
      "display_name": "Python 3"
    },
    "language_info": {
      "name": "python"
    }
  },
  "cells": [
    {
      "cell_type": "markdown",
      "source": [
        "## Contexte"
      ],
      "metadata": {
        "id": "N0DpoTSOFtvS"
      }
    },
    {
      "cell_type": "markdown",
      "source": [
        "J'ai construie un petit dataset contenant l'age d'une personne, son age et le genre musical qu'il aime. <br> Avec ce dataset, je vais construire un modèle permettant de prédire le genre musical qu'une personne pourrait aimer selon son age et son genre.<br> Ceci pourrait une application réelle type d'une plateforme de streaming comme spotify, iTunes, ..."
      ],
      "metadata": {
        "id": "o0deJfYIEizh"
      }
    },
    {
      "cell_type": "markdown",
      "source": [
        "## Importer les données"
      ],
      "metadata": {
        "id": "7SSaHVIWtMgN"
      }
    },
    {
      "cell_type": "code",
      "source": [
        "import pandas as pd\n",
        "music_data=pd.read_csv(\"music.csv\")\n",
        "music_data.head()"
      ],
      "metadata": {
        "colab": {
          "base_uri": "https://localhost:8080/",
          "height": 206
        },
        "id": "pp8L8ct1si5a",
        "outputId": "eccbb8d2-8bb8-4487-cd84-99881796ce4c"
      },
      "execution_count": 22,
      "outputs": [
        {
          "output_type": "execute_result",
          "data": {
            "text/plain": [
              "   age  gender   genre\n",
              "0   20       1  HipHop\n",
              "1   23       1  HipHop\n",
              "2   25       1  HipHop\n",
              "3   26       1    Jazz\n",
              "4   29       1    Jazz"
            ],
            "text/html": [
              "\n",
              "  <div id=\"df-3e8c4585-4428-4397-8817-cd74d42cfc96\">\n",
              "    <div class=\"colab-df-container\">\n",
              "      <div>\n",
              "<style scoped>\n",
              "    .dataframe tbody tr th:only-of-type {\n",
              "        vertical-align: middle;\n",
              "    }\n",
              "\n",
              "    .dataframe tbody tr th {\n",
              "        vertical-align: top;\n",
              "    }\n",
              "\n",
              "    .dataframe thead th {\n",
              "        text-align: right;\n",
              "    }\n",
              "</style>\n",
              "<table border=\"1\" class=\"dataframe\">\n",
              "  <thead>\n",
              "    <tr style=\"text-align: right;\">\n",
              "      <th></th>\n",
              "      <th>age</th>\n",
              "      <th>gender</th>\n",
              "      <th>genre</th>\n",
              "    </tr>\n",
              "  </thead>\n",
              "  <tbody>\n",
              "    <tr>\n",
              "      <th>0</th>\n",
              "      <td>20</td>\n",
              "      <td>1</td>\n",
              "      <td>HipHop</td>\n",
              "    </tr>\n",
              "    <tr>\n",
              "      <th>1</th>\n",
              "      <td>23</td>\n",
              "      <td>1</td>\n",
              "      <td>HipHop</td>\n",
              "    </tr>\n",
              "    <tr>\n",
              "      <th>2</th>\n",
              "      <td>25</td>\n",
              "      <td>1</td>\n",
              "      <td>HipHop</td>\n",
              "    </tr>\n",
              "    <tr>\n",
              "      <th>3</th>\n",
              "      <td>26</td>\n",
              "      <td>1</td>\n",
              "      <td>Jazz</td>\n",
              "    </tr>\n",
              "    <tr>\n",
              "      <th>4</th>\n",
              "      <td>29</td>\n",
              "      <td>1</td>\n",
              "      <td>Jazz</td>\n",
              "    </tr>\n",
              "  </tbody>\n",
              "</table>\n",
              "</div>\n",
              "      <button class=\"colab-df-convert\" onclick=\"convertToInteractive('df-3e8c4585-4428-4397-8817-cd74d42cfc96')\"\n",
              "              title=\"Convert this dataframe to an interactive table.\"\n",
              "              style=\"display:none;\">\n",
              "        \n",
              "  <svg xmlns=\"http://www.w3.org/2000/svg\" height=\"24px\"viewBox=\"0 0 24 24\"\n",
              "       width=\"24px\">\n",
              "    <path d=\"M0 0h24v24H0V0z\" fill=\"none\"/>\n",
              "    <path d=\"M18.56 5.44l.94 2.06.94-2.06 2.06-.94-2.06-.94-.94-2.06-.94 2.06-2.06.94zm-11 1L8.5 8.5l.94-2.06 2.06-.94-2.06-.94L8.5 2.5l-.94 2.06-2.06.94zm10 10l.94 2.06.94-2.06 2.06-.94-2.06-.94-.94-2.06-.94 2.06-2.06.94z\"/><path d=\"M17.41 7.96l-1.37-1.37c-.4-.4-.92-.59-1.43-.59-.52 0-1.04.2-1.43.59L10.3 9.45l-7.72 7.72c-.78.78-.78 2.05 0 2.83L4 21.41c.39.39.9.59 1.41.59.51 0 1.02-.2 1.41-.59l7.78-7.78 2.81-2.81c.8-.78.8-2.07 0-2.86zM5.41 20L4 18.59l7.72-7.72 1.47 1.35L5.41 20z\"/>\n",
              "  </svg>\n",
              "      </button>\n",
              "      \n",
              "  <style>\n",
              "    .colab-df-container {\n",
              "      display:flex;\n",
              "      flex-wrap:wrap;\n",
              "      gap: 12px;\n",
              "    }\n",
              "\n",
              "    .colab-df-convert {\n",
              "      background-color: #E8F0FE;\n",
              "      border: none;\n",
              "      border-radius: 50%;\n",
              "      cursor: pointer;\n",
              "      display: none;\n",
              "      fill: #1967D2;\n",
              "      height: 32px;\n",
              "      padding: 0 0 0 0;\n",
              "      width: 32px;\n",
              "    }\n",
              "\n",
              "    .colab-df-convert:hover {\n",
              "      background-color: #E2EBFA;\n",
              "      box-shadow: 0px 1px 2px rgba(60, 64, 67, 0.3), 0px 1px 3px 1px rgba(60, 64, 67, 0.15);\n",
              "      fill: #174EA6;\n",
              "    }\n",
              "\n",
              "    [theme=dark] .colab-df-convert {\n",
              "      background-color: #3B4455;\n",
              "      fill: #D2E3FC;\n",
              "    }\n",
              "\n",
              "    [theme=dark] .colab-df-convert:hover {\n",
              "      background-color: #434B5C;\n",
              "      box-shadow: 0px 1px 3px 1px rgba(0, 0, 0, 0.15);\n",
              "      filter: drop-shadow(0px 1px 2px rgba(0, 0, 0, 0.3));\n",
              "      fill: #FFFFFF;\n",
              "    }\n",
              "  </style>\n",
              "\n",
              "      <script>\n",
              "        const buttonEl =\n",
              "          document.querySelector('#df-3e8c4585-4428-4397-8817-cd74d42cfc96 button.colab-df-convert');\n",
              "        buttonEl.style.display =\n",
              "          google.colab.kernel.accessAllowed ? 'block' : 'none';\n",
              "\n",
              "        async function convertToInteractive(key) {\n",
              "          const element = document.querySelector('#df-3e8c4585-4428-4397-8817-cd74d42cfc96');\n",
              "          const dataTable =\n",
              "            await google.colab.kernel.invokeFunction('convertToInteractive',\n",
              "                                                     [key], {});\n",
              "          if (!dataTable) return;\n",
              "\n",
              "          const docLinkHtml = 'Like what you see? Visit the ' +\n",
              "            '<a target=\"_blank\" href=https://colab.research.google.com/notebooks/data_table.ipynb>data table notebook</a>'\n",
              "            + ' to learn more about interactive tables.';\n",
              "          element.innerHTML = '';\n",
              "          dataTable['output_type'] = 'display_data';\n",
              "          await google.colab.output.renderOutput(dataTable, element);\n",
              "          const docLink = document.createElement('div');\n",
              "          docLink.innerHTML = docLinkHtml;\n",
              "          element.appendChild(docLink);\n",
              "        }\n",
              "      </script>\n",
              "    </div>\n",
              "  </div>\n",
              "  "
            ]
          },
          "metadata": {},
          "execution_count": 22
        }
      ]
    },
    {
      "cell_type": "markdown",
      "source": [
        "# Préparation des données"
      ],
      "metadata": {
        "id": "4fjef4_Vtacd"
      }
    },
    {
      "cell_type": "markdown",
      "source": [
        "- Pas de données manquantes\n",
        "- Séparer le dataset en données d'entrées et données de sortie"
      ],
      "metadata": {
        "id": "9TILm2lRtoaQ"
      }
    },
    {
      "cell_type": "code",
      "source": [
        "X = music_data.drop(columns=\"genre\")\n",
        "Y = music_data[\"genre\"]"
      ],
      "metadata": {
        "id": "dzT9OgpUs_f8"
      },
      "execution_count": 23,
      "outputs": []
    },
    {
      "cell_type": "markdown",
      "source": [
        "# Modéiser"
      ],
      "metadata": {
        "id": "fetctbhrvtAV"
      }
    },
    {
      "cell_type": "markdown",
      "source": [
        "Résultat des prédictions: le genre de music de la fille est le HipHop et celui de la fille est le Dance.<br>\n",
        "Ce qui est cohérent avec notre dataset."
      ],
      "metadata": {
        "id": "OAGHvVYszy7R"
      }
    },
    {
      "cell_type": "code",
      "source": [
        "from sklearn.tree import DecisionTreeClassifier\n",
        "from sklearn.model_selection import train_test_split\n",
        "from sklearn.metrics import accuracy_score\n",
        "x_train, x_test, y_train,y_test=train_test_split(X,Y, test_size=0.2)\n",
        "#Choisir un modèle et l'entrainer\n",
        "model=DecisionTreeClassifier()\n",
        "model.fit(x_train,y_train)\n",
        "#Evaluer le modèle\n",
        "score=accuracy_score(y_test, predictions)\n",
        "score"
      ],
      "metadata": {
        "colab": {
          "base_uri": "https://localhost:8080/"
        },
        "id": "wPNFOL940knG",
        "outputId": "a78da493-e6dc-4d2d-a1de-c28b61e6f454"
      },
      "execution_count": 24,
      "outputs": [
        {
          "output_type": "execute_result",
          "data": {
            "text/plain": [
              "0.75"
            ]
          },
          "metadata": {},
          "execution_count": 24
        }
      ]
    },
    {
      "cell_type": "code",
      "source": [
        "# Faire des prédictions avec les données test\n",
        "predictions=model.predict(x_test)\n",
        "predictions"
      ],
      "metadata": {
        "colab": {
          "base_uri": "https://localhost:8080/"
        },
        "id": "0Nea4W39HAj8",
        "outputId": "1e5b5332-bcdc-47cd-ccf4-f8b3b2db08b0"
      },
      "execution_count": 25,
      "outputs": [
        {
          "output_type": "execute_result",
          "data": {
            "text/plain": [
              "array(['Jazz', 'HipHop', 'HipHop', 'Jazz'], dtype=object)"
            ]
          },
          "metadata": {},
          "execution_count": 25
        }
      ]
    },
    {
      "cell_type": "markdown",
      "source": [
        "### Extraire le modèle"
      ],
      "metadata": {
        "id": "dD9JJby-2Ida"
      }
    },
    {
      "cell_type": "code",
      "source": [
        "from sklearn.tree import DecisionTreeClassifier\n",
        "# joblib permet de run just un fichier qui contient le model déjà entrainé, meme chose pour pickle\n",
        "import joblib\n",
        "import pickle"
      ],
      "metadata": {
        "id": "wdR-qzt_0w6D"
      },
      "execution_count": 26,
      "outputs": []
    },
    {
      "cell_type": "code",
      "source": [
        "#Creer un fichier contenant le model entrainé\n",
        "model=DecisionTreeClassifier()\n",
        "\n",
        "model.fit(x_train,y_train)\n",
        "joblib.dump(model, 'music-recommender.joblib')"
      ],
      "metadata": {
        "colab": {
          "base_uri": "https://localhost:8080/"
        },
        "id": "P-jcnedr00f0",
        "outputId": "976568e5-699e-416c-f4ce-01d1d455ac66"
      },
      "execution_count": 27,
      "outputs": [
        {
          "output_type": "execute_result",
          "data": {
            "text/plain": [
              "['music-recommender.joblib']"
            ]
          },
          "metadata": {},
          "execution_count": 27
        }
      ]
    },
    {
      "cell_type": "code",
      "source": [
        "# Prédire le genre musicale d'une fille de 21 ans avec fichier du model 'music-recommender.joblib'\n",
        "model=joblib.load('music-recommender.joblib')\n",
        "predictions=model.predict([[21,0]])\n",
        "predictions"
      ],
      "metadata": {
        "colab": {
          "base_uri": "https://localhost:8080/"
        },
        "id": "uBmvFL8p6wWc",
        "outputId": "95a5ea9c-ed18-4f11-dcbf-c3072ccd4ca2"
      },
      "execution_count": 28,
      "outputs": [
        {
          "output_type": "stream",
          "name": "stderr",
          "text": [
            "/usr/local/lib/python3.8/dist-packages/sklearn/base.py:420: UserWarning: X does not have valid feature names, but DecisionTreeClassifier was fitted with feature names\n",
            "  warnings.warn(\n"
          ]
        },
        {
          "output_type": "execute_result",
          "data": {
            "text/plain": [
              "array(['Dance'], dtype=object)"
            ]
          },
          "metadata": {},
          "execution_count": 28
        }
      ]
    },
    {
      "cell_type": "code",
      "source": [
        "# Créer un fichier modèle pickle\n",
        "model.fit(x_train,y_train)\n",
        "pickle.dump(model, open('music-recom.pkl','wb'))"
      ],
      "metadata": {
        "id": "bJAXAJxo6qch"
      },
      "execution_count": 29,
      "outputs": []
    },
    {
      "cell_type": "code",
      "source": [
        "# Load the model from the saved file\n",
        "with open('music-recom.pkl', 'rb') as file:  \n",
        "    pk_model = pickle.load(file)\n",
        "    predictions=model.predict([[30,0]])\n",
        "predictions"
      ],
      "metadata": {
        "colab": {
          "base_uri": "https://localhost:8080/"
        },
        "id": "s7Mb8cDb1dkn",
        "outputId": "fa07fbeb-0202-4038-b833-08bf37265e63"
      },
      "execution_count": 30,
      "outputs": [
        {
          "output_type": "stream",
          "name": "stderr",
          "text": [
            "/usr/local/lib/python3.8/dist-packages/sklearn/base.py:420: UserWarning: X does not have valid feature names, but DecisionTreeClassifier was fitted with feature names\n",
            "  warnings.warn(\n"
          ]
        },
        {
          "output_type": "execute_result",
          "data": {
            "text/plain": [
              "array(['Acoustic'], dtype=object)"
            ]
          },
          "metadata": {},
          "execution_count": 30
        }
      ]
    },
    {
      "cell_type": "markdown",
      "source": [
        "# Visualiser le modèle"
      ],
      "metadata": {
        "id": "z6rhsutc8g2V"
      }
    },
    {
      "cell_type": "code",
      "source": [
        "# le le fichier .dot permet d'affichier le graphe\n",
        "from sklearn import tree\n",
        "\n",
        "model=DecisionTreeClassifier()\n",
        "\n",
        "model.fit(x_train,y_train)\n",
        "\n",
        "tree.export_graphviz(model, out_file='music-recommender.dot',\n",
        "                            feature_names=[\"age\",\"gender\"], \n",
        "                            class_names=sorted(Y.unique()),\n",
        "                            label='all',\n",
        "                            rounded=True,\n",
        "                            filled=True)"
      ],
      "metadata": {
        "id": "Utw_qItv526G"
      },
      "execution_count": 31,
      "outputs": []
    },
    {
      "cell_type": "markdown",
      "source": [
        "Perspectives: \n",
        "- Utiliser une pipeline pour la préparation et une autre pour l'entrainement \n",
        "- Tester sur plusieurs modèles de classification\n",
        "- Evaluer et améliorer le modèle\n",
        "- Déployer le modèle avec : soit falsk, soit Django, soit streamlit, etc\n",
        "\n"
      ],
      "metadata": {
        "id": "ea1w_acWGIm7"
      }
    }
  ]
}